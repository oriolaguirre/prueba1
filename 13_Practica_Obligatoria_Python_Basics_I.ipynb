{
  "cells": [
    {
      "cell_type": "markdown",
      "metadata": {
        "id": "59zPhBxXNPxs"
      },
      "source": [
        "## PRACTICA OBLIGATORIA: PYTHON"
      ]
    },
    {
      "cell_type": "markdown",
      "metadata": {
        "id": "mv2kb1GMNPxs"
      },
      "source": [
        "* La práctica obligatoria de esta unidad consiste en dos ejercicios de programación libre a completar.   \n",
        "* Recuerda que debes subirla a tu repositorio personal antes de la sesión en vivo para que puntúe adecuadamente.  \n",
        "* Recuerda también que no es necesario que esté perfecta, sólo es necesario que se vea el esfuerzo.\n",
        "* Esta práctica se resolverá en la sesión en vivo correspondiente y la solución se publicará en el repo del curso."
      ]
    },
    {
      "cell_type": "markdown",
      "metadata": {
        "id": "Kl9JzST2NPxt"
      },
      "source": [
        "\n",
        "## PARTE I\n",
        "\n",
        "En este ejercicio debes simular un chatbot al que le haremos pedidos de pizzas.\n",
        "\n",
        "1. El chatbot tiene que saludar con un: \"Buenas tardes, bienvenido al servicio de pedido online, el precio de nuestra pizzas es de 8,95 para la familiar o de 9,90 para la mediana ¿Cuántas pizzas  familiares desea?\"\n",
        "2. El ususario tiene que introducir un número de pizzas en una variable llamada 'pizz_familiar'\n",
        "3. El chatbot debe responder: \"Estupendo, ¿cuántas pizzas medianas desea?\" y guardar el número de pizzas medianas en otra variable 'pizz_mediana'\n",
        "4. Además debe responder del chatbot: \"Estupendo, se están preparando 'pizz' pizzas familiares y 'pizz_mediana' pizzas medianas. Digame su dirección\"\n",
        "5. El ususario tiene que introducir una direccion en formato String en otra variable llamada 'direcc'\n",
        "6. El programa debe calcular el monto total\n",
        "7. Respuesta final del chatbot: \"Le mandaremos las '(número total de pizzas)' pizzas a la dirección 'direcc'. Serán <precio total a pagar en euros>. Muchas gracias por su pedido.\"\n",
        "         \n"
      ]
    },
    {
      "cell_type": "code",
      "execution_count": null,
      "metadata": {
        "id": "qkKibyt-NPxt"
      },
      "outputs": [
        {
          "name": "stdout",
          "output_type": "stream",
          "text": [
            "29.7\n",
            "26.85\n",
            "Le mandaremos las 6 pizzas a la dirección avenida 2 con un precio total de: 56.55\n"
          ]
        }
      ],
      "source": [
        "def calculo_total (pizz_familiar,pizz_medianas):\n",
        "        \n",
        "        precio_familiar = round((9.90 * pizz_familiar),3)\n",
        "        print(precio_familiar)\n",
        "        precio_medianas = round((8.95 * pizz_medianas),3)\n",
        "        print(precio_medianas)\n",
        "\n",
        "        return(precio_familiar,precio_medianas)    \n",
        "\n",
        "\n",
        "pizz_familiar= int(input(\"Buenas tardes, bienvenido al servicio de pedido online, el precio de nuestra pizzas es de 8,95 para la familiar o de 9,90 para la mediana ¿Cuántas pizzas  familiares desea?\"))\n",
        "pizz_medianas= int(input(\"Estupendo, ¿cuántas pizzas medianas desea?\"))\n",
        "direcc = input(\"Estupendo, se están preparando {} pizzas familiares y {} pizzas medianas. Digame su dirección\".format(pizz_familiar,pizz_medianas))\n",
        "\n",
        "precios = list(calculo_total(pizz_familiar,pizz_medianas))\n",
        "precio_total = sum(precios)\n",
        "pizzas = pizz_medianas + pizz_familiar\n",
        "\n",
        "print(\"Le mandaremos las {} pizzas a la dirección {} con un precio total de: {} muchas gracias por su pedido\".format(pizzas,direcc,precio_total))\n",
        "\n",
        "\n"
      ]
    },
    {
      "cell_type": "markdown",
      "metadata": {
        "id": "f0oqoGDGNPxt"
      },
      "source": [
        "\n",
        "## Parte II\n",
        "\n",
        "Crea un programa que realice las siguientes acciones:\n",
        "\n",
        "1. Solicite al usuario que introduzca 3 números enteros separados por comas (por ejemplo: 1,2,3).\n",
        "2. Convierta esa entrada en una lista de números enteros.\n",
        "3. Utilizando funciones built-in, determine el número máximo, el número mínimo y la suma total de los números introducidos.\n",
        "4. Determine la verdad o falsedad de la siguiente afirmación: \"El número máximo menos el número mínimo es igual a la suma total dividida por 5\".\n",
        "5. Muestre los resultados utilizando print."
      ]
    },
    {
      "cell_type": "code",
      "execution_count": 21,
      "metadata": {
        "id": "rAlpWiQ9NPxt"
      },
      "outputs": [
        {
          "name": "stdout",
          "output_type": "stream",
          "text": [
            "30 20 0\n",
            "False\n"
          ]
        }
      ],
      "source": [
        "numeros_enteros = [int(input(\"meta un numero entero\")),int(input(\"meta un numero entero\")),int(input(\"meta un numero entero\"))]\n",
        "print(sum(numeros_enteros),max(numeros_enteros),min(numeros_enteros))\n",
        "maximo = max(numeros_enteros)\n",
        "minimo = min(numeros_enteros)\n",
        "suma = sum(numeros_enteros)\n",
        "print((maximo-minimo)==(suma/5))"
      ]
    }
  ],
  "metadata": {
    "colab": {
      "provenance": []
    },
    "kernelspec": {
      "display_name": "Python 3",
      "language": "python",
      "name": "python3"
    },
    "language_info": {
      "codemirror_mode": {
        "name": "ipython",
        "version": 3
      },
      "file_extension": ".py",
      "mimetype": "text/x-python",
      "name": "python",
      "nbconvert_exporter": "python",
      "pygments_lexer": "ipython3",
      "version": "3.11.0"
    },
    "orig_nbformat": 4
  },
  "nbformat": 4,
  "nbformat_minor": 0
}
